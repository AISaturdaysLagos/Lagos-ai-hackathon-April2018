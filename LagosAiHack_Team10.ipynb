{
  "nbformat": 4,
  "nbformat_minor": 0,
  "metadata": {
    "colab": {
      "name": "Untitled0.ipynb",
      "version": "0.3.2",
      "views": {},
      "default_view": {},
      "provenance": []
    },
    "kernelspec": {
      "name": "python3",
      "display_name": "Python 3"
    },
    "accelerator": "GPU"
  },
  "cells": [
    {
      "metadata": {
        "id": "jKWQzOl2VKiX",
        "colab_type": "text"
      },
      "cell_type": "markdown",
      "source": [
        "## Notebook on Google Colab\n",
        "\n",
        "First thing to do is to move the dataset to colab. To do this, we install the kaggle cli\n"
      ]
    },
    {
      "metadata": {
        "id": "hxgDS8CEZ6Hn",
        "colab_type": "code",
        "colab": {
          "autoexec": {
            "startup": false,
            "wait_interval": 0
          },
          "base_uri": "https://localhost:8080/",
          "height": 221
        },
        "outputId": "be2880ab-10cd-43e9-bc21-10e2838d8f17",
        "executionInfo": {
          "status": "ok",
          "timestamp": 1523200197897,
          "user_tz": -60,
          "elapsed": 5476,
          "user": {
            "displayName": "Francis Lawrence",
            "photoUrl": "https://lh3.googleusercontent.com/a/default-user=s128",
            "userId": "110821742958046067259"
          }
        }
      },
      "cell_type": "code",
      "source": [
        "!pip install kaggle"
      ],
      "execution_count": 1,
      "outputs": [
        {
          "output_type": "stream",
          "text": [
            "Collecting kaggle\n",
            "  Downloading kaggle-1.1.0.tar.gz\n",
            "Requirement already satisfied: certifi in /usr/local/lib/python3.6/dist-packages (from kaggle)\n",
            "Requirement already satisfied: python-dateutil in /usr/local/lib/python3.6/dist-packages (from kaggle)\n",
            "Requirement already satisfied: six>=1.10 in /usr/local/lib/python3.6/dist-packages (from kaggle)\n",
            "Requirement already satisfied: urllib3>=1.15 in /usr/local/lib/python3.6/dist-packages (from kaggle)\n",
            "Building wheels for collected packages: kaggle\n",
            "  Running setup.py bdist_wheel for kaggle ... \u001b[?25l-\b \b\\\b \bdone\n",
            "\u001b[?25h  Stored in directory: /content/.cache/pip/wheels/2a/cc/c6/e4c872c053261660031b4a3e35ac958725b284c6fde9ff05c8\n",
            "Successfully built kaggle\n",
            "Installing collected packages: kaggle\n",
            "Successfully installed kaggle-1.1.0\n"
          ],
          "name": "stdout"
        }
      ]
    },
    {
      "metadata": {
        "id": "9uFSV1BVVsmD",
        "colab_type": "text"
      },
      "cell_type": "markdown",
      "source": [
        "We need to move a file 'kaggle.json' to colab"
      ]
    },
    {
      "metadata": {
        "id": "2KSpM7Tik6EL",
        "colab_type": "code",
        "colab": {
          "autoexec": {
            "startup": false,
            "wait_interval": 0
          },
          "resources": {
            "http://localhost:8080/nbextensions/google.colab/files.js": {
              "data": "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",
              "ok": true,
              "headers": [
                [
                  "content-type",
                  "application/javascript"
                ]
              ],
              "status": 200,
              "status_text": ""
            }
          },
          "base_uri": "https://localhost:8080/",
          "height": 72
        },
        "outputId": "55b26f70-393b-4357-9037-c3aacd712f52",
        "executionInfo": {
          "status": "ok",
          "timestamp": 1523200209062,
          "user_tz": -60,
          "elapsed": 8293,
          "user": {
            "displayName": "Francis Lawrence",
            "photoUrl": "https://lh3.googleusercontent.com/a/default-user=s128",
            "userId": "110821742958046067259"
          }
        }
      },
      "cell_type": "code",
      "source": [
        "from google.colab import files\n",
        "uploaded = files.upload()"
      ],
      "execution_count": 2,
      "outputs": [
        {
          "output_type": "display_data",
          "data": {
            "text/html": [
              "\n",
              "     <input type=\"file\" id=\"files-d23a0d4f-e096-40b4-9b4d-54347f8390b8\" name=\"files[]\" multiple disabled />\n",
              "     <output id=\"result-d23a0d4f-e096-40b4-9b4d-54347f8390b8\">\n",
              "      Upload widget is only available when the cell has been executed in the\n",
              "      current browser session. Please rerun this cell to enable.\n",
              "      </output>\n",
              "      <script src=\"/nbextensions/google.colab/files.js\"></script> "
            ],
            "text/plain": [
              "<IPython.core.display.HTML object>"
            ]
          },
          "metadata": {
            "tags": []
          }
        },
        {
          "output_type": "stream",
          "text": [
            "Saving kaggle.json to kaggle.json\n"
          ],
          "name": "stdout"
        }
      ]
    },
    {
      "metadata": {
        "id": "FTRFXUTuV3Xs",
        "colab_type": "text"
      },
      "cell_type": "markdown",
      "source": [
        "Now, we can download the competition dataset using the kaggle command"
      ]
    },
    {
      "metadata": {
        "id": "pK6citpGk_c9",
        "colab_type": "code",
        "colab": {
          "autoexec": {
            "startup": false,
            "wait_interval": 0
          }
        }
      },
      "cell_type": "code",
      "source": [
        "!mkdir /content/.kaggle\n",
        "!mv kaggle.json /content/.kaggle/kaggle.json\n",
        "!kaggle competitions download -c lagos-ai-hackathon\n",
        "!unzip /content/.kaggle/competitions/lagos-ai-hackathon/Food.zip -d /content/.kaggle/competitions/lagos-ai-hackathon/images"
      ],
      "execution_count": 0,
      "outputs": []
    },
    {
      "metadata": {
        "id": "eE0KPgdQWRs_",
        "colab_type": "text"
      },
      "cell_type": "markdown",
      "source": [
        "### import packages that are required ###\n",
        "and get the train and test data"
      ]
    },
    {
      "metadata": {
        "id": "rudjTQ5KlIlw",
        "colab_type": "code",
        "colab": {
          "autoexec": {
            "startup": false,
            "wait_interval": 0
          },
          "base_uri": "https://localhost:8080/",
          "height": 34
        },
        "outputId": "5e72fbd1-d437-43b9-dcfc-51e6535274a8",
        "executionInfo": {
          "status": "ok",
          "timestamp": 1523204238754,
          "user_tz": -60,
          "elapsed": 6835,
          "user": {
            "displayName": "Francis Lawrence",
            "photoUrl": "https://lh3.googleusercontent.com/a/default-user=s128",
            "userId": "110821742958046067259"
          }
        }
      },
      "cell_type": "code",
      "source": [
        "import numpy as np\n",
        "import tensorflow as tf\n",
        "import keras\n",
        "import pandas as pd\n",
        "import cv2\n",
        "import PIL as Image\n",
        "import matplotlib.image as mpimg\n",
        "import matplotlib.pyplot as plt\n",
        "\n",
        "train_path = \"/content/.kaggle/competitions/lagos-ai-hackathon/images/train\"\n",
        "test_path = \"/content/.kaggle/competitions/lagos-ai-hackathon/images/test\"\n",
        "\n",
        "from os import listdir\n",
        "from os.path import isfile, join\n",
        "train_labels = pd.read_csv(\"/content/.kaggle/competitions/lagos-ai-hackathon/labels.csv\")\n",
        "train_image_files = [f for f in listdir(train_path) if isfile(join(train_path, f))]\n",
        "test_image_files = [f for f in listdir(test_path) if isfile(join(test_path, f))]\n"
      ],
      "execution_count": 1,
      "outputs": [
        {
          "output_type": "stream",
          "text": [
            "Using TensorFlow backend.\n"
          ],
          "name": "stderr"
        }
      ]
    },
    {
      "metadata": {
        "id": "_jFpu4kgllbO",
        "colab_type": "code",
        "colab": {
          "autoexec": {
            "startup": false,
            "wait_interval": 0
          }
        }
      },
      "cell_type": "code",
      "source": [
        ""
      ],
      "execution_count": 0,
      "outputs": []
    },
    {
      "metadata": {
        "id": "l4T_6OZ7lmGK",
        "colab_type": "text"
      },
      "cell_type": "markdown",
      "source": [
        "# Creating the dataset"
      ]
    },
    {
      "metadata": {
        "id": "v0P-7Qo5lpCo",
        "colab_type": "code",
        "colab": {
          "autoexec": {
            "startup": false,
            "wait_interval": 0
          },
          "base_uri": "https://localhost:8080/",
          "height": 85
        },
        "outputId": "154f2964-8cab-4a97-ece2-94186c2e248a",
        "executionInfo": {
          "status": "ok",
          "timestamp": 1523204377712,
          "user_tz": -60,
          "elapsed": 133503,
          "user": {
            "displayName": "Francis Lawrence",
            "photoUrl": "https://lh3.googleusercontent.com/a/default-user=s128",
            "userId": "110821742958046067259"
          }
        }
      },
      "cell_type": "code",
      "source": [
        "X = []\n",
        "y = []\n",
        "X_test = []\n",
        "size = (224,224)\n",
        "\n",
        "for i in train_image_files:\n",
        "  imagearray = mpimg.imread(str(train_path)+\"/\"+i)\n",
        "  imagearray = cv2.resize(imagearray,size, interpolation = cv2.INTER_CUBIC)\n",
        "  imagearray = imagearray.ravel()\n",
        "  X.append(imagearray)\n",
        "  \n",
        "  label = int(i.split(\"_\")[0])\n",
        "  y.append(int(label))\n",
        "  \n",
        "X_train = np.array(X)\n",
        "y_train = np.array(y)\n",
        "\n",
        "\n",
        "test_id = []\n",
        "\n",
        "for i in test_image_files:\n",
        "  imagearray = mpimg.imread(str(test_path)+\"/\"+i)\n",
        "  imagearray = cv2.resize(imagearray,size, interpolation = cv2.INTER_CUBIC)\n",
        "  imagearray = imagearray.ravel()\n",
        "  X_test.append(imagearray)\n",
        "  \n",
        "  label = int(i.split(\".\")[0])\n",
        "  test_id.append(int(label))\n",
        "\n",
        "test_id = np.array(test_id)\n",
        "X_test = np.array(X_test)\n",
        "\n",
        "print(\"Shape of X_test: {0}\".format(X_test.shape))\n",
        "print(\"Shape of test_id: {0}\".format(test_id.shape))\n",
        "print(\"Shape of X_train: {0}\".format(X_train.shape))\n",
        "print(\"Shape of y_train: {0}\".format(y_train.shape))\n",
        "\n"
      ],
      "execution_count": 2,
      "outputs": [
        {
          "output_type": "stream",
          "text": [
            "Shape of X_test: (3347, 150528)\n",
            "Shape of test_id: (3347,)\n",
            "Shape of X_train: (13296, 150528)\n",
            "Shape of y_train: (13296,)\n"
          ],
          "name": "stdout"
        }
      ]
    },
    {
      "metadata": {
        "id": "WIvxNtx3WoK9",
        "colab_type": "text"
      },
      "cell_type": "markdown",
      "source": [
        "define some helper functions"
      ]
    },
    {
      "metadata": {
        "id": "eidxYVbLmplZ",
        "colab_type": "code",
        "colab": {
          "autoexec": {
            "startup": false,
            "wait_interval": 0
          }
        }
      },
      "cell_type": "code",
      "source": [
        "def plot_model_history(model_history):\n",
        "    fig, axs = plt.subplots(1,2,figsize=(15,5))\n",
        "    # summarize history for accuracy\n",
        "    axs[0].plot(range(1,len(model_history.history['acc'])+1),model_history.history['acc'])\n",
        "    axs[0].plot(range(1,len(model_history.history['val_acc'])+1),model_history.history['val_acc'])\n",
        "    axs[0].set_title('Model Accuracy')\n",
        "    axs[0].set_ylabel('Accuracy')\n",
        "    axs[0].set_xlabel('Epoch')\n",
        "    axs[0].set_xticks(np.arange(1,len(model_history.history['acc'])+1),len(model_history.history['acc'])/10)\n",
        "    axs[0].legend(['train', 'val'], loc='best')\n",
        "    # summarize history for loss\n",
        "    axs[1].plot(range(1,len(model_history.history['loss'])+1),model_history.history['loss'])\n",
        "    axs[1].plot(range(1,len(model_history.history['val_loss'])+1),model_history.history['val_loss'])\n",
        "    axs[1].set_title('Model Loss')\n",
        "    axs[1].set_ylabel('Loss')\n",
        "    axs[1].set_xlabel('Epoch')\n",
        "    axs[1].set_xticks(np.arange(1,len(model_history.history['loss'])+1),len(model_history.history['loss'])/10)\n",
        "    axs[1].legend(['train', 'val'], loc='best')\n",
        "    plt.show()"
      ],
      "execution_count": 0,
      "outputs": []
    },
    {
      "metadata": {
        "id": "5WrBcL40lzuK",
        "colab_type": "code",
        "colab": {
          "autoexec": {
            "startup": false,
            "wait_interval": 0
          }
        }
      },
      "cell_type": "code",
      "source": [
        "def to_one_hot(x,n):\n",
        "    b = np.zeros((x.shape[0],n))\n",
        "    b[np.arange(x.shape[0]), x] = 1\n",
        "\n",
        "    return b.astype(int)\n"
      ],
      "execution_count": 0,
      "outputs": []
    },
    {
      "metadata": {
        "id": "KMFKwcuTWumf",
        "colab_type": "text"
      },
      "cell_type": "markdown",
      "source": [
        "Perform train/test split of train data"
      ]
    },
    {
      "metadata": {
        "id": "f6e6QshCoB9w",
        "colab_type": "code",
        "colab": {
          "autoexec": {
            "startup": false,
            "wait_interval": 0
          },
          "base_uri": "https://localhost:8080/",
          "height": 85
        },
        "outputId": "6144524d-a5dc-47f8-9931-4901ea7f1cc5",
        "executionInfo": {
          "status": "ok",
          "timestamp": 1523204057842,
          "user_tz": -60,
          "elapsed": 795,
          "user": {
            "displayName": "Francis Lawrence",
            "photoUrl": "https://lh3.googleusercontent.com/a/default-user=s128",
            "userId": "110821742958046067259"
          }
        }
      },
      "cell_type": "code",
      "source": [
        "num_test = int(0.1 * X_train.shape[0])\n",
        "X_t = (X_train[:num_test]).reshape(-1,3,224,224); y_t = y_train[:num_test]\n",
        "X_train1 = (X_train[num_test:]).reshape(-1,3,224,224); y_train1 = y_train[num_test:]\n",
        "\n",
        "print(\"X_train shape: {0}\".format(X_train1.shape))\n",
        "print(\"y_train shape: {0}\".format(y_train1.shape))\n",
        "\n",
        "print(\"X_test shape: {0}\".format(X_t.shape))\n",
        "print(\"y_test shape: {0}\".format(y_t.shape))"
      ],
      "execution_count": 9,
      "outputs": [
        {
          "output_type": "stream",
          "text": [
            "X_train shape: (11967, 3, 224, 224)\n",
            "y_train shape: (11967,)\n",
            "X_test shape: (1329, 3, 224, 224)\n",
            "y_test shape: (1329,)\n"
          ],
          "name": "stdout"
        }
      ]
    },
    {
      "metadata": {
        "id": "etCkluV8FKCu",
        "colab_type": "code",
        "colab": {
          "autoexec": {
            "startup": false,
            "wait_interval": 0
          }
        }
      },
      "cell_type": "code",
      "source": [
        "X_train = X_train.reshape(-1,3,224,224)"
      ],
      "execution_count": 0,
      "outputs": []
    },
    {
      "metadata": {
        "id": "yEmJphcnW3gE",
        "colab_type": "text"
      },
      "cell_type": "markdown",
      "source": [
        "Normalize the data (this code caused the kernel to die)"
      ]
    },
    {
      "metadata": {
        "id": "3W8fhtdBCXnM",
        "colab_type": "code",
        "colab": {
          "autoexec": {
            "startup": false,
            "wait_interval": 0
          }
        }
      },
      "cell_type": "code",
      "source": [
        "mean_pixel = [103.939, 116.779, 123.68]\n",
        "\n",
        "img = X_train1\n",
        "img = img.astype(np.float32, copy=False)\n",
        "for c in range(3):\n",
        "  img[:, c, :, :] = img[:, c, :, :] - mean_pixel[c]\n",
        "X_train1 = img\n",
        "\n",
        "\n",
        "img = X_test\n",
        "img = img.astype(np.float32, copy=False)\n",
        "for c in range(3):\n",
        "  img[:, c, :, :] = img[:, c, :, :] - mean_pixel[c]\n",
        "X_test = img"
      ],
      "execution_count": 0,
      "outputs": []
    },
    {
      "metadata": {
        "id": "v0H_WcQLoGVO",
        "colab_type": "code",
        "colab": {
          "autoexec": {
            "startup": false,
            "wait_interval": 0
          }
        }
      },
      "cell_type": "code",
      "source": [
        "y_train_hot = to_one_hot(y_train,11)\n",
        "#y_test_hot = to_one_hot(y_t,11)"
      ],
      "execution_count": 0,
      "outputs": []
    },
    {
      "metadata": {
        "id": "B3D1Ryf8l0S9",
        "colab_type": "text"
      },
      "cell_type": "markdown",
      "source": [
        "# Model VGG-16\n",
        "implementation obtained from fast.ai repository and tweeked"
      ]
    },
    {
      "metadata": {
        "id": "kmPrdGqzl1w3",
        "colab_type": "code",
        "colab": {
          "autoexec": {
            "startup": false,
            "wait_interval": 0
          }
        }
      },
      "cell_type": "code",
      "source": [
        "from __future__ import division, print_function\n",
        "\n",
        "import os, json\n",
        "from glob import glob\n",
        "import numpy as np\n",
        "from scipy import misc, ndimage\n",
        "from scipy.ndimage.interpolation import zoom\n",
        "\n",
        "from keras import backend as K\n",
        "from keras.layers.normalization import BatchNormalization\n",
        "from keras.utils.data_utils import get_file\n",
        "from keras.models import Sequential\n",
        "from keras.layers.core import Flatten, Dense, Dropout, Lambda\n",
        "from keras.layers.convolutional import Convolution2D, MaxPooling2D, ZeroPadding2D\n",
        "from keras.layers.pooling import GlobalAveragePooling2D\n",
        "from keras.optimizers import SGD, RMSprop, Adam\n",
        "from keras.preprocessing import image\n",
        "\n",
        "# In case we are going to use the TensorFlow backend we need to explicitly set the Theano image ordering\n",
        "from keras import backend as K\n",
        "K.set_image_dim_ordering('th')\n",
        "\n",
        "\n",
        "vgg_mean = np.array([123.68, 116.779, 103.939], dtype=np.float32).reshape((3,1,1))\n",
        "def vgg_preprocess(x):\n",
        "    \n",
        "    x = x - vgg_mean\n",
        "    return x[:, ::-1] # reverse axis rgb->bgr\n",
        "\n",
        "\n",
        "class Vgg16():\n",
        "    \n",
        "    def __init__(self):\n",
        "        self.FILE_PATH = 'http://files.fast.ai/models/'\n",
        "        self.create()\n",
        "        self.get_classes()\n",
        "\n",
        "\n",
        "    def get_classes(self):\n",
        "        \n",
        "        fname = 'imagenet_class_index.json'\n",
        "        fpath = get_file(fname, self.FILE_PATH+fname, cache_subdir='models')\n",
        "        with open(fpath) as f:\n",
        "            class_dict = json.load(f)\n",
        "        self.classes = [class_dict[str(i)][1] for i in range(len(class_dict))]\n",
        "\n",
        "    def ConvBlock(self, layers, filters):\n",
        "        \"\"\"\n",
        "            Adds a specified number of ZeroPadding and Covolution layers\n",
        "            to the model, and a MaxPooling layer at the very end.\n",
        "\n",
        "            Args:\n",
        "                layers (int):   The number of zero padded convolution layers\n",
        "                                to be added to the model.\n",
        "                filters (int):  The number of convolution filters to be \n",
        "                                created for each layer.\n",
        "        \"\"\"\n",
        "        model = self.model\n",
        "        for i in range(layers):\n",
        "            model.add(ZeroPadding2D((1, 1)))\n",
        "            model.add(Convolution2D(filters, 3, 3, activation='relu'))\n",
        "        model.add(MaxPooling2D((2, 2), strides=(2, 2)))\n",
        "\n",
        "\n",
        "    def FCBlock(self):\n",
        "        \"\"\"\n",
        "            Adds a fully connected layer of 4096 neurons to the model with a\n",
        "            Dropout of 0.5\n",
        "\n",
        "            Args:   None\n",
        "            Returns:   None\n",
        "        \"\"\"\n",
        "        model = self.model\n",
        "        model.add(Dense(4096, activation='relu'))\n",
        "        model.add(Dropout(0.5))\n",
        "\n",
        "\n",
        "    def create(self):\n",
        "        \"\"\"\n",
        "            Creates the VGG16 network achitecture and loads the pretrained weights.\n",
        "\n",
        "            Args:   None\n",
        "            Returns:   None\n",
        "        \"\"\"\n",
        "        model = self.model = Sequential()\n",
        "        model.add(Lambda(vgg_preprocess, input_shape=(3,224,224), output_shape=(3,224,224)))\n",
        "\n",
        "        self.ConvBlock(2, 64)\n",
        "        self.ConvBlock(2, 128)\n",
        "        self.ConvBlock(3, 256)\n",
        "        self.ConvBlock(3, 512)\n",
        "        self.ConvBlock(3, 512)\n",
        "\n",
        "        model.add(Flatten())\n",
        "        self.FCBlock()\n",
        "        self.FCBlock()\n",
        "        model.add(Dense(1000, activation='softmax'))\n",
        "\n",
        "        fname = 'vgg16.h5'\n",
        "        model.load_weights(get_file(fname, self.FILE_PATH+fname, cache_subdir='models'))\n",
        "\n",
        "\n",
        "    \n",
        "    def ft(self, num):\n",
        "        \n",
        "        model = self.model\n",
        "        model.pop()\n",
        "        for layer in model.layers: layer.trainable=False\n",
        "        model.add(Dense(1000, activation='relu'))\n",
        "        model.add(Dense(500, activation='relu'))\n",
        "        model.add(Dense(num, activation='softmax'))\n",
        "        self.compile()\n",
        "\n",
        "    def finetune(self, batches):\n",
        "        \n",
        "        self.ft(batches.nb_class)\n",
        "        classes = list(iter(batches.class_indices)) # get a list of all the class labels\n",
        "        \n",
        "        # batches.class_indices is a dict with the class name as key and an index as value\n",
        "        # eg. {'cats': 0, 'dogs': 1}\n",
        "\n",
        "        # sort the class labels by index according to batches.class_indices and update model.classes\n",
        "        for c in batches.class_indices:\n",
        "            classes[batches.class_indices[c]] = c\n",
        "        self.classes = classes\n",
        "\n",
        "\n",
        "    def compile(self, lr=0.001):\n",
        "        \n",
        "        self.model.compile(optimizer=Adam(lr=lr),\n",
        "                loss='categorical_crossentropy', metrics=['accuracy'])\n",
        "\n",
        "\n",
        "    def fit_data(self, trn, labels,  val, val_labels,  nb_epoch=1, batch_size=64):\n",
        "        \n",
        "        self.model.fit(trn, labels, nb_epoch=nb_epoch,\n",
        "                validation_data=(val, val_labels), batch_size=batch_size)\n",
        "    def fit_val(self, X_train1, y_train_hot, batch_size=64, nb_epoch=3, verbose=2, validation_split=0.2):\n",
        "        \n",
        "        self.model.fit(X_train1, y_train_hot, batch_size=batch_size, nb_epoch=nb_epoch, verbose=verbose, validation_split=validation_split)\n",
        "\n",
        "        \n",
        "       \n",
        "\n",
        "    def fit(self, batches, val_batches, nb_epoch=1):\n",
        "        \n",
        "        self.model.fit_generator(batches, samples_per_epoch=batches.nb_sample, nb_epoch=nb_epoch,\n",
        "                validation_data=val_batches, nb_val_samples=val_batches.nb_sample)\n",
        "\n",
        "\n",
        "    def test(self, path, batch_size=8):\n",
        "        \n",
        "        test_batches = self.get_batches(path, shuffle=False, batch_size=batch_size, class_mode=None)\n",
        "        return test_batches, self.model.predict_generator(test_batches, test_batches.nb_sample)\n"
      ],
      "execution_count": 0,
      "outputs": []
    },
    {
      "metadata": {
        "id": "lJVIGjexXSCa",
        "colab_type": "text"
      },
      "cell_type": "markdown",
      "source": [
        "# Compile and train"
      ]
    },
    {
      "metadata": {
        "id": "7nZiPzapmKoS",
        "colab_type": "code",
        "colab": {
          "autoexec": {
            "startup": false,
            "wait_interval": 0
          },
          "base_uri": "https://localhost:8080/",
          "height": 105
        },
        "outputId": "b38efeee-8446-4bbc-8cbb-992cbdad495a",
        "executionInfo": {
          "status": "ok",
          "timestamp": 1523207118728,
          "user_tz": -60,
          "elapsed": 1782,
          "user": {
            "displayName": "Francis Lawrence",
            "photoUrl": "https://lh3.googleusercontent.com/a/default-user=s128",
            "userId": "110821742958046067259"
          }
        }
      },
      "cell_type": "code",
      "source": [
        "model = Vgg16() \n",
        "\n",
        "# fine tune the model by removing the last layer and adding a dense layer with 11 units\n",
        "model.ft(11) \n",
        "\n",
        "# now, compile; using the default optimizer and learning rate\n",
        "model.compile()"
      ],
      "execution_count": 21,
      "outputs": [
        {
          "output_type": "stream",
          "text": [
            "/usr/local/lib/python3.6/dist-packages/ipykernel_launcher.py:100: UserWarning: Update your `Conv2D` call to the Keras 2 API: `Conv2D(64, (3, 3), activation=\"relu\")`\n",
            "/usr/local/lib/python3.6/dist-packages/ipykernel_launcher.py:100: UserWarning: Update your `Conv2D` call to the Keras 2 API: `Conv2D(128, (3, 3), activation=\"relu\")`\n",
            "/usr/local/lib/python3.6/dist-packages/ipykernel_launcher.py:100: UserWarning: Update your `Conv2D` call to the Keras 2 API: `Conv2D(256, (3, 3), activation=\"relu\")`\n",
            "/usr/local/lib/python3.6/dist-packages/ipykernel_launcher.py:100: UserWarning: Update your `Conv2D` call to the Keras 2 API: `Conv2D(512, (3, 3), activation=\"relu\")`\n"
          ],
          "name": "stderr"
        }
      ]
    },
    {
      "metadata": {
        "id": "136HYE10XxcS",
        "colab_type": "text"
      },
      "cell_type": "markdown",
      "source": [
        "Train the model; (train for just 3 epochs)"
      ]
    },
    {
      "metadata": {
        "id": "l5fo1qqdysfO",
        "colab_type": "code",
        "colab": {
          "autoexec": {
            "startup": false,
            "wait_interval": 0
          },
          "base_uri": "https://localhost:8080/",
          "height": 153
        },
        "outputId": "35580547-ae32-45d4-e2b2-090f350afcd6"
      },
      "cell_type": "code",
      "source": [
        "model.fit_val(X_train, y_train_hot, batch_size=64, nb_epoch=3, verbose=2, validation_split=0.2)"
      ],
      "execution_count": 0,
      "outputs": [
        {
          "output_type": "stream",
          "text": [
            "/usr/local/lib/python3.6/dist-packages/keras/models.py:942: UserWarning: The `nb_epoch` argument in `fit` has been renamed `epochs`.\n",
            "  warnings.warn('The `nb_epoch` argument in `fit` '\n"
          ],
          "name": "stderr"
        },
        {
          "output_type": "stream",
          "text": [
            "Train on 10636 samples, validate on 2660 samples\n",
            "Epoch 1/3\n",
            " - 127s - loss: 2.2126 - acc: 0.2418 - val_loss: 2.0109 - val_acc: 0.2959\n",
            "Epoch 2/3\n",
            " - 127s - loss: 2.0250 - acc: 0.2836 - val_loss: 1.9741 - val_acc: 0.3105\n",
            "Epoch 3/3\n"
          ],
          "name": "stdout"
        }
      ]
    },
    {
      "metadata": {
        "id": "SaZVds6EYHj_",
        "colab_type": "text"
      },
      "cell_type": "markdown",
      "source": [
        "Prredict on the test set"
      ]
    },
    {
      "metadata": {
        "id": "856sqLTRpS0C",
        "colab_type": "code",
        "colab": {
          "autoexec": {
            "startup": false,
            "wait_interval": 0
          }
        }
      },
      "cell_type": "code",
      "source": [
        "out = model.model.predict(X_test.reshape(-1,3,224,224))\n"
      ],
      "execution_count": 0,
      "outputs": []
    },
    {
      "metadata": {
        "id": "XP7A-p8WrL-v",
        "colab_type": "code",
        "colab": {
          "autoexec": {
            "startup": false,
            "wait_interval": 0
          },
          "base_uri": "https://localhost:8080/",
          "height": 34
        },
        "outputId": "36941745-8eca-4581-9e62-19e27dc0dab7",
        "executionInfo": {
          "status": "ok",
          "timestamp": 1523201955745,
          "user_tz": -60,
          "elapsed": 793,
          "user": {
            "displayName": "Francis Lawrence",
            "photoUrl": "https://lh3.googleusercontent.com/a/default-user=s128",
            "userId": "110821742958046067259"
          }
        }
      },
      "cell_type": "code",
      "source": [
        "out1 = np.argmax(out, axis = 1)\n",
        "out1"
      ],
      "execution_count": 14,
      "outputs": [
        {
          "output_type": "execute_result",
          "data": {
            "text/plain": [
              "array([10,  1,  2, ...,  9,  9,  5])"
            ]
          },
          "metadata": {
            "tags": []
          },
          "execution_count": 14
        }
      ]
    },
    {
      "metadata": {
        "id": "n_71puSAYRoh",
        "colab_type": "text"
      },
      "cell_type": "markdown",
      "source": [
        "create submission dataframe"
      ]
    },
    {
      "metadata": {
        "id": "d4iBgStMqaEd",
        "colab_type": "code",
        "colab": {
          "autoexec": {
            "startup": false,
            "wait_interval": 0
          }
        }
      },
      "cell_type": "code",
      "source": [
        "sub = pd.DataFrame({\"image_id\":test_id.tolist(),\"label\":out1.tolist()})"
      ],
      "execution_count": 0,
      "outputs": []
    },
    {
      "metadata": {
        "id": "73Y02lUKYZEp",
        "colab_type": "text"
      },
      "cell_type": "markdown",
      "source": [
        "create submission csv file"
      ]
    },
    {
      "metadata": {
        "id": "gVQAr9virefl",
        "colab_type": "code",
        "colab": {
          "autoexec": {
            "startup": false,
            "wait_interval": 0
          }
        }
      },
      "cell_type": "code",
      "source": [
        "sub.to_csv(\"/content/submission.csv\", index=False)"
      ],
      "execution_count": 0,
      "outputs": []
    },
    {
      "metadata": {
        "id": "K1vv8V-lYeNY",
        "colab_type": "text"
      },
      "cell_type": "markdown",
      "source": [
        "download the submision.csv file from colab to local computer"
      ]
    },
    {
      "metadata": {
        "id": "Pbtz-pvhrply",
        "colab_type": "code",
        "colab": {
          "autoexec": {
            "startup": false,
            "wait_interval": 0
          }
        }
      },
      "cell_type": "code",
      "source": [
        "from google.colab import files\n",
        "files.download(\"submission.csv\")"
      ],
      "execution_count": 0,
      "outputs": []
    },
    {
      "metadata": {
        "id": "17eXqq3G69Fg",
        "colab_type": "code",
        "colab": {
          "autoexec": {
            "startup": false,
            "wait_interval": 0
          }
        }
      },
      "cell_type": "code",
      "source": [
        ""
      ],
      "execution_count": 0,
      "outputs": []
    }
  ]
}